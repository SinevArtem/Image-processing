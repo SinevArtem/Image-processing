{
 "cells": [
  {
   "cell_type": "code",
   "execution_count": null,
   "id": "b64e3071",
   "metadata": {},
   "outputs": [],
   "source": [
    "import numpy as np\n",
    "import cv2\n",
    "import matplotlib.pyplot as plt"
   ]
  },
  {
   "cell_type": "code",
   "execution_count": null,
   "id": "548a258a",
   "metadata": {
    "lines_to_next_cell": 1
   },
   "outputs": [],
   "source": [
    "# Загрузка изображений\n",
    "image = cv2.imread('sar_1.jpg')\n",
    "image_gray = cv2.cvtColor(image, cv2.COLOR_BGR2GRAY)"
   ]
  },
  {
   "cell_type": "code",
   "execution_count": null,
   "id": "410ceeda",
   "metadata": {
    "lines_to_next_cell": 1
   },
   "outputs": [],
   "source": [
    "def homo_average(img, mask, point, T):\n",
    "    if np.count_nonzero(mask > 0) == 0:\n",
    "        return False\n",
    "    av_val = img[mask > 0].mean()\n",
    "    return abs(av_val - img[point]) <= T"
   ]
  },
  {
   "cell_type": "code",
   "execution_count": null,
   "id": "15a29937",
   "metadata": {
    "lines_to_next_cell": 1
   },
   "outputs": [],
   "source": [
    "def homo_range(img, mask, point, T):\n",
    "    if np.count_nonzero(mask > 0) == 0:\n",
    "        return False\n",
    "    region_values = img[mask > 0]\n",
    "    current_min = np.min(region_values)\n",
    "    current_max = np.max(region_values)\n",
    "    pixel_value = img[point]\n",
    "\n",
    "    new_min = min(current_min, pixel_value)\n",
    "    new_max = max(current_max, pixel_value)\n",
    "    return (new_max - new_min) <= T"
   ]
  },
  {
   "cell_type": "code",
   "execution_count": null,
   "id": "843b2016",
   "metadata": {
    "lines_to_next_cell": 1
   },
   "outputs": [],
   "source": [
    "def region_growing(image, seed_point, homo_fun, T):\n",
    "    mask = np.zeros(image.shape, np.uint8)\n",
    "    mask[seed_point] = 1\n",
    "    count = 1\n",
    "\n",
    "    while count > 0:\n",
    "        count = 0\n",
    "        local_mask = np.zeros(image.shape, np.uint8)\n",
    "        border = cv2.dilate(mask, np.ones((3, 3), np.uint8)) - mask\n",
    "        points = np.where(border > 0)\n",
    "\n",
    "        for i, j in zip(points[0], points[1]):\n",
    "            if homo_fun(image, mask, (i, j), T):\n",
    "                local_mask[i, j] = 1\n",
    "                count += 1\n",
    "\n",
    "        mask = cv2.bitwise_or(mask, local_mask)\n",
    "\n",
    "    return mask * 255"
   ]
  },
  {
   "cell_type": "code",
   "execution_count": null,
   "id": "d08ecdbf",
   "metadata": {},
   "outputs": [],
   "source": [
    "# Задание 1: Подбор параметров для газона\n",
    "print(\"=== ЗАДАНИЕ 1: Подбор параметров для газона ===\")\n",
    "seed_point = (250, 250)"
   ]
  },
  {
   "cell_type": "code",
   "execution_count": null,
   "id": "323ecb3e",
   "metadata": {},
   "outputs": [],
   "source": [
    "best_T = 0\n",
    "best_area = 0\n",
    "for T in [5, 8, 12, 15, 18, 20, 25]:\n",
    "    mask = region_growing(image_gray, seed_point, homo_average, T)\n",
    "    area = np.sum(mask > 0)\n",
    "    if area > best_area and area < image_gray.size * 0.8:\n",
    "        best_area = area\n",
    "        best_T = T"
   ]
  },
  {
   "cell_type": "code",
   "execution_count": null,
   "id": "9b4f1bca",
   "metadata": {},
   "outputs": [],
   "source": [
    "print(f\"Лучший параметр T: {best_T}\")\n",
    "mask_gas = region_growing(image_gray, seed_point, homo_average, best_T)"
   ]
  },
  {
   "cell_type": "code",
   "execution_count": null,
   "id": "862103a3",
   "metadata": {},
   "outputs": [],
   "source": [
    "plt.figure(figsize=(10, 4))\n",
    "plt.subplot(1, 2, 1)\n",
    "plt.imshow(image_gray, cmap=\"gray\")\n",
    "plt.title(\"Исходное изображение\")\n",
    "plt.axis('off')"
   ]
  },
  {
   "cell_type": "code",
   "execution_count": null,
   "id": "7a51ebc9",
   "metadata": {},
   "outputs": [],
   "source": [
    "plt.subplot(1, 2, 2)\n",
    "plt.imshow(mask_gas, cmap=\"gray\")\n",
    "plt.title(f\"Газон (T={best_T}, площадь: {best_area}px)\")\n",
    "plt.axis('off')\n",
    "plt.tight_layout()\n",
    "plt.show()"
   ]
  },
  {
   "cell_type": "code",
   "execution_count": null,
   "id": "c8b08e85",
   "metadata": {},
   "outputs": [],
   "source": [
    "# Задание 2: Сравнение критериев\n",
    "print(\"\\n=== ЗАДАНИЕ 2: Сравнение критериев ===\")\n",
    "mask_avg = region_growing(image_gray, seed_point, homo_average, 8)\n",
    "mask_range = region_growing(image_gray, seed_point, homo_range, 15)"
   ]
  },
  {
   "cell_type": "code",
   "execution_count": null,
   "id": "5280c929",
   "metadata": {},
   "outputs": [],
   "source": [
    "plt.figure(figsize=(10, 4))\n",
    "plt.subplot(1, 2, 1)\n",
    "plt.imshow(mask_avg, cmap=\"gray\")\n",
    "plt.title(\"Критерий: среднее (T=8)\")\n",
    "plt.axis('off')"
   ]
  },
  {
   "cell_type": "code",
   "execution_count": null,
   "id": "ab38ee30",
   "metadata": {},
   "outputs": [],
   "source": [
    "plt.subplot(1, 2, 2)\n",
    "plt.imshow(mask_range, cmap=\"gray\")\n",
    "plt.title(\"Критерий: диапазон (T=15) - НОВЫЙ\")\n",
    "plt.axis('off')\n",
    "plt.tight_layout()\n",
    "plt.show()"
   ]
  },
  {
   "cell_type": "code",
   "execution_count": null,
   "id": "d0a29e42",
   "metadata": {},
   "outputs": [],
   "source": [
    "# Задание 3: Watershed для пальм\n",
    "print(\"\\n=== ЗАДАНИЕ 3: Watershed для пальм ===\")\n",
    "palm_image = cv2.imread('palm_1.JPG')"
   ]
  },
  {
   "cell_type": "code",
   "execution_count": null,
   "id": "01fec0b2",
   "metadata": {},
   "outputs": [],
   "source": [
    "if palm_image is not None:\n",
    "    palm_gray = cv2.cvtColor(palm_image, cv2.COLOR_BGR2GRAY)\n",
    "    palm_enhanced = cv2.equalizeHist(palm_gray)\n",
    "    _, binary = cv2.threshold(palm_enhanced, 0, 255, cv2.THRESH_BINARY_INV + cv2.THRESH_OTSU)\n",
    "\n",
    "    kernel = np.ones((3, 3), np.uint8)\n",
    "    cleaned = cv2.morphologyEx(binary, cv2.MORPH_OPEN, kernel, iterations=1)\n",
    "    cleaned = cv2.morphologyEx(cleaned, cv2.MORPH_CLOSE, kernel, iterations=2)\n",
    "\n",
    "    sure_bg = cv2.dilate(cleaned, kernel, iterations=2)\n",
    "    dist_transform = cv2.distanceTransform(cleaned, cv2.DIST_L2, 3)\n",
    "    _, sure_fg = cv2.threshold(dist_transform, 0.5 * dist_transform.max(), 255, 0)\n",
    "    sure_fg = sure_fg.astype(np.uint8)\n",
    "    unknown = cv2.subtract(sure_bg, sure_fg)\n",
    "    ret, markers = cv2.connectedComponents(sure_fg)\n",
    "\n",
    "    if ret > 1:\n",
    "        markers = markers + 1\n",
    "        markers[unknown == 255] = 0\n",
    "\n",
    "        result_image = palm_image.copy()\n",
    "        markers = cv2.watershed(result_image, markers)\n",
    "\n",
    "        tree_count = 0\n",
    "        for marker in np.unique(markers):\n",
    "            if marker > 1:\n",
    "                area = np.sum(markers == marker)\n",
    "                if area > 50:\n",
    "                    tree_count += 1\n",
    "\n",
    "        result_image[markers == -1] = [0, 0, 255]\n",
    "\n",
    "        plt.figure(figsize=(12, 8))\n",
    "        plt.subplot(2, 3, 1)\n",
    "        plt.imshow(cv2.cvtColor(palm_image, cv2.COLOR_BGR2RGB))\n",
    "        plt.title(\"Исходные пальмы\")\n",
    "        plt.axis('off')\n",
    "\n",
    "        plt.subplot(2, 3, 2)\n",
    "        plt.imshow(palm_enhanced, cmap='gray')\n",
    "        plt.title(\"Улучшенный контраст\")\n",
    "        plt.axis('off')\n",
    "\n",
    "        plt.subplot(2, 3, 3)\n",
    "        plt.imshow(cleaned, cmap='gray')\n",
    "        plt.title(\"Бинаризация + морфология\")\n",
    "        plt.axis('off')\n",
    "\n",
    "        plt.subplot(2, 3, 4)\n",
    "        plt.imshow(dist_transform, cmap='jet')\n",
    "        plt.title(\"Distance Transform\")\n",
    "        plt.axis('off')\n",
    "\n",
    "        plt.subplot(2, 3, 5)\n",
    "        plt.imshow(sure_fg, cmap='gray')\n",
    "        plt.title(\"Маркеры (центры деревьев)\")\n",
    "        plt.axis('off')\n",
    "\n",
    "        plt.subplot(2, 3, 6)\n",
    "        plt.imshow(cv2.cvtColor(result_image, cv2.COLOR_BGR2RGB))\n",
    "        plt.title(f\"Результат: {tree_count} деревьев\")\n",
    "        plt.axis('off')\n",
    "\n",
    "        plt.tight_layout()\n",
    "        plt.show()\n",
    "    else:\n",
    "        tree_count = 0\n",
    "        print(\"Деревья не обнаружены\")\n",
    "else:\n",
    "    print(\"Изображение palm_1.JPG не найдено!\")\n",
    "    tree_count = 0"
   ]
  },
  {
   "cell_type": "code",
   "execution_count": null,
   "id": "53c8ccc1",
   "metadata": {},
   "outputs": [],
   "source": [
    "print(f\"\\n=== ИТОГИ ===\")\n",
    "print(f\"Задание 1: Газон выделен с T={best_T}\")\n",
    "print(f\"Задание 2: Добавлен новый критерий 'диапазон'\")\n",
    "print(f\"Задание 3: Найдено {tree_count} пальмовых деревьев\")"
   ]
  }
 ],
 "metadata": {
  "jupytext": {
   "cell_metadata_filter": "-all",
   "main_language": "python",
   "notebook_metadata_filter": "-all"
  }
 },
 "nbformat": 4,
 "nbformat_minor": 5
}
