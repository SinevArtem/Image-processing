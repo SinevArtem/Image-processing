{
 "cells": [
  {
   "cell_type": "code",
   "execution_count": null,
   "id": "deb376f0",
   "metadata": {},
   "outputs": [],
   "source": [
    "import numpy as np\n",
    "import cv2\n",
    "import matplotlib.pyplot as plt\n",
    "import math\n",
    "import copy"
   ]
  },
  {
   "cell_type": "code",
   "execution_count": null,
   "id": "d6d4ca07",
   "metadata": {},
   "outputs": [],
   "source": [
    "image_path = cv2.imread('sar_3.jpg')\n",
    "image = cv2.cvtColor(image_path, cv2.COLOR_BGR2RGB)\n",
    "image_gray = cv2.cvtColor(image, cv2.COLOR_BGR2GRAY)"
   ]
  },
  {
   "cell_type": "code",
   "execution_count": null,
   "id": "dc60fdf8",
   "metadata": {
    "lines_to_next_cell": 2
   },
   "outputs": [],
   "source": [
    "image_hough = image.copy()"
   ]
  },
  {
   "cell_type": "code",
   "execution_count": null,
   "id": "0a0b9d52",
   "metadata": {},
   "outputs": [],
   "source": [
    "plt.imshow(image, cmap='gray')\n",
    "plt.title('Исходное изображение')\n",
    "plt.axis('off')\n",
    "plt.show()"
   ]
  },
  {
   "cell_type": "code",
   "execution_count": null,
   "id": "5137b41c",
   "metadata": {},
   "outputs": [],
   "source": [
    "# Детектор Канни\n",
    "canny = cv2.Canny(image_gray, 50, 150, apertureSize=3)"
   ]
  },
  {
   "cell_type": "code",
   "execution_count": null,
   "id": "9a74ea3b",
   "metadata": {},
   "outputs": [],
   "source": [
    "# Преобразование Хафа\n",
    "lines = cv2.HoughLines(canny, 1, np.pi / 180, 140)"
   ]
  },
  {
   "cell_type": "code",
   "execution_count": null,
   "id": "c64dabc8",
   "metadata": {},
   "outputs": [],
   "source": [
    "longest_line_info = None\n",
    "max_length = 0"
   ]
  },
  {
   "cell_type": "code",
   "execution_count": null,
   "id": "300ac6d8",
   "metadata": {},
   "outputs": [],
   "source": [
    "if lines is not None:\n",
    "    \n",
    "    all_lines = []\n",
    "\n",
    "    for i in range(len(lines)):\n",
    "        rho = lines[i][0][0]\n",
    "        theta = lines[i][0][1]\n",
    "\n",
    "        a = math.cos(theta)\n",
    "        b = math.sin(theta)\n",
    "        x0 = a * rho\n",
    "        y0 = b * rho\n",
    "\n",
    "        pt1 = (int(x0 + 1000 * (-b)), int(y0 + 1000 * (a)))\n",
    "        pt2 = (int(x0 - 1000 * (-b)), int(y0 - 1000 * (a)))\n",
    "\n",
    "        length = np.sqrt((pt2[0] - pt1[0]) ** 2 + (pt2[1] - pt1[1]) ** 2)\n",
    "\n",
    "        if length > max_length:\n",
    "            max_length = length\n",
    "            longest_line_info = (rho, theta, pt1, pt2)\n",
    "    \n",
    "    if longest_line_info is not None:\n",
    "        rho, theta, pt1, pt2 = longest_line_info\n",
    "        cv2.line(image_hough, pt1, pt2, (255, 0, 0), 4, cv2.LINE_AA)"
   ]
  },
  {
   "cell_type": "code",
   "execution_count": null,
   "id": "0ff60b91",
   "metadata": {},
   "outputs": [],
   "source": [
    "plt.figure(figsize=(12, 5))\n",
    "plt.subplot(1, 2, 1)\n",
    "plt.imshow(canny, cmap='gray')\n",
    "plt.title('Границы (Canny)')\n",
    "plt.axis('off')"
   ]
  },
  {
   "cell_type": "code",
   "execution_count": null,
   "id": "82943d4f",
   "metadata": {},
   "outputs": [],
   "source": [
    "plt.subplot(1, 2, 2)\n",
    "plt.imshow(image_hough)\n",
    "plt.title('Результат HoughLines\\n(красная - самая длинная)')\n",
    "plt.axis('off')\n",
    "plt.tight_layout()\n",
    "plt.show()"
   ]
  },
  {
   "cell_type": "code",
   "execution_count": null,
   "id": "fe97bfdc",
   "metadata": {},
   "outputs": [],
   "source": [
    "bin_img = copy.deepcopy(image_gray)\n",
    "T  = 50\n",
    "bin_img[image_gray < T] = 0\n",
    "bin_img[image_gray >= T] = 255"
   ]
  },
  {
   "cell_type": "code",
   "execution_count": null,
   "id": "c103f3ba",
   "metadata": {},
   "outputs": [],
   "source": [
    "plt.imshow(bin_img, cmap='gray')\n",
    "plt.title('Точечная бинаризация')\n",
    "plt.axis('off')\n",
    "plt.show()"
   ]
  },
  {
   "cell_type": "code",
   "execution_count": null,
   "id": "db7d0605",
   "metadata": {},
   "outputs": [],
   "source": [
    "_,th2 = cv2.threshold(image_gray,0,255,cv2.THRESH_BINARY+cv2.THRESH_OTSU)"
   ]
  },
  {
   "cell_type": "code",
   "execution_count": null,
   "id": "6b82d6ab",
   "metadata": {},
   "outputs": [],
   "source": [
    "plt.imshow(th2, cmap='gray')\n",
    "plt.title('Бинаризация Отсу')\n",
    "plt.axis('off')\n",
    "plt.show()"
   ]
  },
  {
   "cell_type": "code",
   "execution_count": null,
   "id": "adad84cb",
   "metadata": {},
   "outputs": [],
   "source": [
    "th3 = cv2.adaptiveThreshold(image_gray,255,cv2.ADAPTIVE_THRESH_GAUSSIAN_C,\\\n",
    "            cv2.THRESH_BINARY,71,21)"
   ]
  },
  {
   "cell_type": "code",
   "execution_count": null,
   "id": "2b67bd85",
   "metadata": {},
   "outputs": [],
   "source": [
    "plt.imshow(th3, cmap='gray')\n",
    "plt.title('Адаптивная бинаризация')\n",
    "plt.axis('off')\n",
    "plt.show()"
   ]
  },
  {
   "cell_type": "code",
   "execution_count": null,
   "id": "763a8205",
   "metadata": {},
   "outputs": [],
   "source": [
    "scale = 1\n",
    "delta = 0\n",
    "ddepth = cv2.CV_16S\n",
    "grad_x = cv2.Sobel(image_gray, ddepth, 1, 0, ksize=3, scale=scale, delta=delta, borderType=cv2.BORDER_DEFAULT)\n",
    "grad_y = cv2.Sobel(image_gray, ddepth, 0, 1, ksize=3, scale=scale, delta=delta, borderType=cv2.BORDER_DEFAULT)\n",
    "grad = cv2.addWeighted(grad_x, 0.5, grad_y, 0.5,0.0)"
   ]
  },
  {
   "cell_type": "code",
   "execution_count": null,
   "id": "2ac3175c",
   "metadata": {},
   "outputs": [],
   "source": [
    "plt.imshow((grad_x - grad_x.min())*255, cmap='gray')\n",
    "plt.title('Оператор Собеля по Х')\n",
    "plt.axis('off')\n",
    "plt.show()"
   ]
  },
  {
   "cell_type": "code",
   "execution_count": null,
   "id": "c7132e7e",
   "metadata": {
    "lines_to_next_cell": 2
   },
   "outputs": [],
   "source": [
    "plt.imshow((grad_y - grad_y.min())*255, cmap='gray')\n",
    "plt.title('Оператор Собеля по У')\n",
    "plt.axis('off')\n",
    "plt.show()"
   ]
  },
  {
   "cell_type": "code",
   "execution_count": null,
   "id": "708ffa51",
   "metadata": {},
   "outputs": [],
   "source": [
    "th3 = cv2.adaptiveThreshold(image_gray,255,cv2.ADAPTIVE_THRESH_GAUSSIAN_C,\\\n",
    "            cv2.THRESH_BINARY,71,21)"
   ]
  },
  {
   "cell_type": "code",
   "execution_count": null,
   "id": "a0257b93",
   "metadata": {},
   "outputs": [],
   "source": [
    "plt.imshow((grad - grad.min())*255, cmap='gray')\n",
    "plt.title('Оператор Собеля (Среднее между Х и У)')\n",
    "plt.axis('off')\n",
    "plt.show()"
   ]
  },
  {
   "cell_type": "code",
   "execution_count": null,
   "id": "f5ebe62c",
   "metadata": {},
   "outputs": [],
   "source": [
    "blur = cv2.GaussianBlur(bin_img, (5, 5), 0)\n",
    "thresh = cv2.adaptiveThreshold(blur, 255, cv2.ADAPTIVE_THRESH_GAUSSIAN_C, cv2.THRESH_BINARY_INV, 55, 2)\n",
    "contours, _ = cv2.findContours(thresh, cv2.RETR_EXTERNAL, cv2.CHAIN_APPROX_SIMPLE)\n",
    "image_line_road = image.copy()"
   ]
  },
  {
   "cell_type": "code",
   "execution_count": null,
   "id": "a93258e6",
   "metadata": {},
   "outputs": [],
   "source": [
    "road_mask = np.zeros_like(image_gray)\n",
    "image_with_roads = image.copy()"
   ]
  },
  {
   "cell_type": "code",
   "execution_count": null,
   "id": "49724ca1",
   "metadata": {},
   "outputs": [],
   "source": [
    "if contours:\n",
    "    for contour in contours:\n",
    "        area = cv2.contourArea(contour)\n",
    "        if area > 500:\n",
    "            cv2.fillPoly(road_mask, [contour], 255)\n",
    "            cv2.fillPoly(image_with_roads, [contour], (0, 0, 255))"
   ]
  },
  {
   "cell_type": "code",
   "execution_count": null,
   "id": "02e6323e",
   "metadata": {},
   "outputs": [],
   "source": [
    "road = cv2.bitwise_and(image, image,mask=road_mask)"
   ]
  },
  {
   "cell_type": "code",
   "execution_count": null,
   "id": "298b7f28",
   "metadata": {
    "lines_to_next_cell": 2
   },
   "outputs": [],
   "source": [
    "plt.imshow(image_with_roads, cmap='gray')\n",
    "plt.title('Выделение участков дорог')\n",
    "plt.axis('off')\n",
    "plt.show()"
   ]
  }
 ],
 "metadata": {
  "jupytext": {
   "cell_metadata_filter": "-all",
   "main_language": "python",
   "notebook_metadata_filter": "-all"
  }
 },
 "nbformat": 4,
 "nbformat_minor": 5
}
