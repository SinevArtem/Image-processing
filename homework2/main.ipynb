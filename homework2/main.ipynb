{
 "cells": [
  {
   "cell_type": "code",
   "execution_count": null,
   "id": "c9d4541d",
   "metadata": {},
   "outputs": [],
   "source": [
    "import numpy as np\n",
    "import cv2\n",
    "import matplotlib.pyplot as plt\n",
    "from skimage.metrics import structural_similarity, mean_squared_error\n",
    "import copy"
   ]
  },
  {
   "cell_type": "code",
   "execution_count": null,
   "id": "5d6d6c30",
   "metadata": {},
   "outputs": [],
   "source": [
    "image = cv2.imread('img.jpg')\n",
    "image_gray = cv2.cvtColor(image, cv2.COLOR_BGR2GRAY)"
   ]
  },
  {
   "cell_type": "code",
   "execution_count": null,
   "id": "135062b8",
   "metadata": {},
   "outputs": [],
   "source": [
    "# 1. Гауссов шум\n",
    "mean = 0\n",
    "stddev = 100\n",
    "noise_gauss = np.zeros(image_gray.shape, np.uint8)\n",
    "cv2.randn(noise_gauss, mean, stddev)\n",
    "image_noise_gauss = cv2.add(image_gray, noise_gauss)\n",
    "plt.imshow(image_noise_gauss, cmap=\"gray\")\n",
    "plt.title(\"Гауссов шум\")\n",
    "plt.axis('off')\n",
    "plt.show()"
   ]
  },
  {
   "cell_type": "code",
   "execution_count": null,
   "id": "8e99e114",
   "metadata": {},
   "outputs": [],
   "source": [
    "# 2. Постоянный шум\n",
    "constant_noise = np.full(image_gray.shape, 30, dtype=np.uint8)\n",
    "image_constant_noise = cv2.add(image_gray, constant_noise)\n",
    "plt.imshow(image_constant_noise, cmap=\"gray\")\n",
    "plt.title(\"Постоянный шум\")\n",
    "plt.axis('off')\n",
    "plt.show()"
   ]
  },
  {
   "cell_type": "code",
   "execution_count": null,
   "id": "945ca329",
   "metadata": {},
   "outputs": [],
   "source": [
    "# Оценка зашумленных изображений\n",
    "print(\"=== Оценка зашумленных изображений ===\")\n",
    "mse_gauss = mean_squared_error(image_gray, image_noise_gauss)\n",
    "ssim_gauss = structural_similarity(image_gray, image_noise_gauss)\n",
    "print(f\"Гауссов шум: MSE = {mse_gauss:.2f}, SSIM = {ssim_gauss:.4f}\")"
   ]
  },
  {
   "cell_type": "code",
   "execution_count": null,
   "id": "00e9bb8d",
   "metadata": {},
   "outputs": [],
   "source": [
    "mse_constant = mean_squared_error(image_gray, image_constant_noise)\n",
    "ssim_constant = structural_similarity(image_gray, image_constant_noise)\n",
    "print(f\"Постоянный шум: MSE = {mse_constant:.2f}, SSIM = {ssim_constant:.4f}\")"
   ]
  },
  {
   "cell_type": "code",
   "execution_count": null,
   "id": "391d93cd",
   "metadata": {},
   "outputs": [],
   "source": [
    "# Тестирование фильтров для гауссова шума\n",
    "print(\"\\n=== ФИЛЬТРАЦИЯ ГАУССОВА ШУМА ===\")"
   ]
  },
  {
   "cell_type": "code",
   "execution_count": null,
   "id": "22effbc4",
   "metadata": {},
   "outputs": [],
   "source": [
    "# Медианный фильтр с разными параметрами\n",
    "image_gauss_median3 = cv2.medianBlur(image_noise_gauss, 3)\n",
    "image_gauss_median5 = cv2.medianBlur(image_noise_gauss, 5)\n",
    "image_gauss_median7 = cv2.medianBlur(image_noise_gauss, 7)"
   ]
  },
  {
   "cell_type": "code",
   "execution_count": null,
   "id": "ecad74c3",
   "metadata": {},
   "outputs": [],
   "source": [
    "# Гауссов фильтр с разными параметрами\n",
    "image_gauss_gauss3 = cv2.GaussianBlur(image_noise_gauss, (3, 3), 0)\n",
    "image_gauss_gauss5 = cv2.GaussianBlur(image_noise_gauss, (5, 5), 0)\n",
    "image_gauss_gauss7 = cv2.GaussianBlur(image_noise_gauss, (7, 7), 0)"
   ]
  },
  {
   "cell_type": "code",
   "execution_count": null,
   "id": "139677bb",
   "metadata": {},
   "outputs": [],
   "source": [
    "# Билатеральный фильтр с разными параметрами\n",
    "image_gauss_bilat1 = cv2.bilateralFilter(image_noise_gauss, 5, 50, 50)\n",
    "image_gauss_bilat2 = cv2.bilateralFilter(image_noise_gauss, 9, 75, 75)\n",
    "image_gauss_bilat3 = cv2.bilateralFilter(image_noise_gauss, 15, 100, 100)"
   ]
  },
  {
   "cell_type": "code",
   "execution_count": null,
   "id": "fb110e36",
   "metadata": {},
   "outputs": [],
   "source": [
    "# Фильтр нелокальных средних с разными параметрами\n",
    "image_gauss_nlm1 = cv2.fastNlMeansDenoising(image_noise_gauss, h=10)\n",
    "image_gauss_nlm2 = cv2.fastNlMeansDenoising(image_noise_gauss, h=20)\n",
    "image_gauss_nlm3 = cv2.fastNlMeansDenoising(image_noise_gauss, h=30)"
   ]
  },
  {
   "cell_type": "code",
   "execution_count": null,
   "id": "163c7def",
   "metadata": {},
   "outputs": [],
   "source": [
    "# Оценка результатов для гауссова шума\n",
    "filters_gauss = {\n",
    "    'Медианный 3x3': image_gauss_median3,\n",
    "    'Медианный 5x5': image_gauss_median5,\n",
    "    'Медианный 7x7': image_gauss_median7,\n",
    "    'Гауссов 3x3': image_gauss_gauss3,\n",
    "    'Гауссов 5x5': image_gauss_gauss5,\n",
    "    'Гауссов 7x7': image_gauss_gauss7,\n",
    "    'Билатеральный (5,50,50)': image_gauss_bilat1,\n",
    "    'Билатеральный (9,75,75)': image_gauss_bilat2,\n",
    "    'Билатеральный (15,100,100)': image_gauss_bilat3,\n",
    "    'NLM h=10': image_gauss_nlm1,\n",
    "    'NLM h=20': image_gauss_nlm2,\n",
    "    'NLM h=30': image_gauss_nlm3\n",
    "}"
   ]
  },
  {
   "cell_type": "code",
   "execution_count": null,
   "id": "17f46ac4",
   "metadata": {},
   "outputs": [],
   "source": [
    "best_ssim_gauss = 0\n",
    "best_filter_gauss = \"\""
   ]
  },
  {
   "cell_type": "code",
   "execution_count": null,
   "id": "504f0242",
   "metadata": {},
   "outputs": [],
   "source": [
    "for name, filtered in filters_gauss.items():\n",
    "    mse = mean_squared_error(image_gray, filtered)\n",
    "    ssim_val = structural_similarity(image_gray, filtered)\n",
    "    print(f\"{name:25}: MSE = {mse:6.2f}, SSIM = {ssim_val:.4f}\")\n",
    "\n",
    "    if ssim_val > best_ssim_gauss:\n",
    "        best_ssim_gauss = ssim_val\n",
    "        best_filter_gauss = name"
   ]
  },
  {
   "cell_type": "code",
   "execution_count": null,
   "id": "68a0e503",
   "metadata": {},
   "outputs": [],
   "source": [
    "print(f\"\\nЛучший фильтр для гауссова шума: {best_filter_gauss} (SSIM = {best_ssim_gauss:.4f})\")"
   ]
  },
  {
   "cell_type": "code",
   "execution_count": null,
   "id": "a6eed405",
   "metadata": {},
   "outputs": [],
   "source": [
    "# Тестирование фильтров для постоянного шума\n",
    "print(\"\\n=== ФИЛЬТРАЦИЯ ПОСТОЯННОГО ШУМА ===\")"
   ]
  },
  {
   "cell_type": "code",
   "execution_count": null,
   "id": "8e19e271",
   "metadata": {},
   "outputs": [],
   "source": [
    "# Медианный фильтр с разными параметрами\n",
    "image_constant_median3 = cv2.medianBlur(image_constant_noise, 3)\n",
    "image_constant_median5 = cv2.medianBlur(image_constant_noise, 5)\n",
    "image_constant_median7 = cv2.medianBlur(image_constant_noise, 7)"
   ]
  },
  {
   "cell_type": "code",
   "execution_count": null,
   "id": "7fdc6f49",
   "metadata": {},
   "outputs": [],
   "source": [
    "# Гауссов фильтр с разными параметрами\n",
    "image_constant_gauss3 = cv2.GaussianBlur(image_constant_noise, (3, 3), 0)\n",
    "image_constant_gauss5 = cv2.GaussianBlur(image_constant_noise, (5, 5), 0)\n",
    "image_constant_gauss7 = cv2.GaussianBlur(image_constant_noise, (7, 7), 0)"
   ]
  },
  {
   "cell_type": "code",
   "execution_count": null,
   "id": "2e68fee1",
   "metadata": {},
   "outputs": [],
   "source": [
    "# Билатеральный фильтр с разными параметрами\n",
    "image_constant_bilat1 = cv2.bilateralFilter(image_constant_noise, 5, 50, 50)\n",
    "image_constant_bilat2 = cv2.bilateralFilter(image_constant_noise, 9, 75, 75)\n",
    "image_constant_bilat3 = cv2.bilateralFilter(image_constant_noise, 15, 100, 100)"
   ]
  },
  {
   "cell_type": "code",
   "execution_count": null,
   "id": "a8e6c9bc",
   "metadata": {},
   "outputs": [],
   "source": [
    "# Фильтр нелокальных средних с разными параметрами\n",
    "image_constant_nlm1 = cv2.fastNlMeansDenoising(image_constant_noise, h=10)\n",
    "image_constant_nlm2 = cv2.fastNlMeansDenoising(image_constant_noise, h=20)\n",
    "image_constant_nlm3 = cv2.fastNlMeansDenoising(image_constant_noise, h=30)"
   ]
  },
  {
   "cell_type": "code",
   "execution_count": null,
   "id": "deb48e89",
   "metadata": {},
   "outputs": [],
   "source": [
    "# Оценка результатов для постоянного шума\n",
    "filters_constant = {\n",
    "    'Медианный 3x3': image_constant_median3,\n",
    "    'Медианный 5x5': image_constant_median5,\n",
    "    'Медианный 7x7': image_constant_median7,\n",
    "    'Гауссов 3x3': image_constant_gauss3,\n",
    "    'Гауссов 5x5': image_constant_gauss5,\n",
    "    'Гауссов 7x7': image_constant_gauss7,\n",
    "    'Билатеральный (5,50,50)': image_constant_bilat1,\n",
    "    'Билатеральный (9,75,75)': image_constant_bilat2,\n",
    "    'Билатеральный (15,100,100)': image_constant_bilat3,\n",
    "    'NLM h=10': image_constant_nlm1,\n",
    "    'NLM h=20': image_constant_nlm2,\n",
    "    'NLM h=30': image_constant_nlm3\n",
    "}"
   ]
  },
  {
   "cell_type": "code",
   "execution_count": null,
   "id": "9b956214",
   "metadata": {},
   "outputs": [],
   "source": [
    "best_ssim_constant = 0\n",
    "best_filter_constant = \"\""
   ]
  },
  {
   "cell_type": "code",
   "execution_count": null,
   "id": "460e4101",
   "metadata": {},
   "outputs": [],
   "source": [
    "for name, filtered in filters_constant.items():\n",
    "    mse = mean_squared_error(image_gray, filtered)\n",
    "    ssim_val = structural_similarity(image_gray, filtered)\n",
    "    print(f\"{name:25}: MSE = {mse:6.2f}, SSIM = {ssim_val:.4f}\")\n",
    "\n",
    "    if ssim_val > best_ssim_constant:\n",
    "        best_ssim_constant = ssim_val\n",
    "        best_filter_constant = name"
   ]
  },
  {
   "cell_type": "code",
   "execution_count": null,
   "id": "d05eb571",
   "metadata": {},
   "outputs": [],
   "source": [
    "print(f\"\\nЛучший фильтр для постоянного шума: {best_filter_constant} (SSIM = {best_ssim_constant:.4f})\")"
   ]
  },
  {
   "cell_type": "code",
   "execution_count": null,
   "id": "2c476373",
   "metadata": {},
   "outputs": [],
   "source": [
    "# Визуализация лучших результатов\n",
    "plt.figure(figsize=(15, 10))"
   ]
  },
  {
   "cell_type": "code",
   "execution_count": null,
   "id": "af0dd398",
   "metadata": {},
   "outputs": [],
   "source": [
    "# Исходное изображение\n",
    "plt.subplot(2, 3, 1)\n",
    "plt.imshow(image_gray, cmap=\"gray\")\n",
    "plt.title(\"Исходное изображение\")\n",
    "plt.axis('off')"
   ]
  },
  {
   "cell_type": "code",
   "execution_count": null,
   "id": "e4c4f65f",
   "metadata": {},
   "outputs": [],
   "source": [
    "# Зашумленные изображения\n",
    "plt.subplot(2, 3, 2)\n",
    "plt.imshow(image_noise_gauss, cmap=\"gray\")\n",
    "plt.title(\"Гауссов шум\")\n",
    "plt.axis('off')"
   ]
  },
  {
   "cell_type": "code",
   "execution_count": null,
   "id": "9bed3002",
   "metadata": {},
   "outputs": [],
   "source": [
    "plt.subplot(2, 3, 3)\n",
    "plt.imshow(image_constant_noise, cmap=\"gray\")\n",
    "plt.title(\"Постоянный шум\")\n",
    "plt.axis('off')"
   ]
  },
  {
   "cell_type": "code",
   "execution_count": null,
   "id": "20795d64",
   "metadata": {},
   "outputs": [],
   "source": [
    "# Лучшие результаты для гауссова шума\n",
    "plt.subplot(2, 3, 4)\n",
    "best_gauss_img = filters_gauss[best_filter_gauss]\n",
    "plt.imshow(best_gauss_img, cmap=\"gray\")\n",
    "plt.title(f\"Лучший для гауссова: {best_filter_gauss}\")\n",
    "plt.axis('off')"
   ]
  },
  {
   "cell_type": "code",
   "execution_count": null,
   "id": "4aeb1aad",
   "metadata": {},
   "outputs": [],
   "source": [
    "# Лучшие результаты для постоянного шума\n",
    "plt.subplot(2, 3, 5)\n",
    "best_constant_img = filters_constant[best_filter_constant]\n",
    "plt.imshow(best_constant_img, cmap=\"gray\")\n",
    "plt.title(f\"Лучший для постоянного: {best_filter_constant}\")\n",
    "plt.axis('off')"
   ]
  },
  {
   "cell_type": "code",
   "execution_count": null,
   "id": "56be472a",
   "metadata": {},
   "outputs": [],
   "source": [
    "# Сравнение медианного фильтра для обоих типов шума\n",
    "plt.subplot(2, 3, 6)\n",
    "plt.imshow(image_constant_median5, cmap=\"gray\")\n",
    "plt.title(\"Медианный 5x5 (постоянный шум)\")\n",
    "plt.axis('off')"
   ]
  },
  {
   "cell_type": "code",
   "execution_count": null,
   "id": "c3989b54",
   "metadata": {},
   "outputs": [],
   "source": [
    "plt.tight_layout()\n",
    "plt.show()"
   ]
  },
  {
   "cell_type": "code",
   "execution_count": null,
   "id": "fe9fdebd",
   "metadata": {},
   "outputs": [],
   "source": [
    "# Сводная таблица результатов\n",
    "print(\"\\n\" + \"=\"*60)\n",
    "print(\"СВОДНАЯ ТАБЛИЦА РЕЗУЛЬТАТОВ\")\n",
    "print(\"=\"*60)\n",
    "print(f\"{'Тип шума':<15} {'Лучший фильтр':<25} {'SSIM':<8}\")\n",
    "print(\"-\"*60)\n",
    "print(f\"{'Гауссов':<15} {best_filter_gauss:<25} {best_ssim_gauss:.4f}\")\n",
    "print(f\"{'Постоянный':<15} {best_filter_constant:<25} {best_ssim_constant:.4f}\")\n",
    "print(\"=\"*60)"
   ]
  }
 ],
 "metadata": {
  "jupytext": {
   "cell_metadata_filter": "-all",
   "main_language": "python",
   "notebook_metadata_filter": "-all"
  }
 },
 "nbformat": 4,
 "nbformat_minor": 5
}
